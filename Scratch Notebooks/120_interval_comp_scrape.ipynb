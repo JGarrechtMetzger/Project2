{
 "cells": [
  {
   "cell_type": "code",
   "execution_count": 1,
   "id": "limited-vocabulary",
   "metadata": {
    "ExecuteTime": {
     "end_time": "2021-01-19T23:24:41.715194Z",
     "start_time": "2021-01-19T23:24:39.843441Z"
    }
   },
   "outputs": [],
   "source": [
    "from bs4 import BeautifulSoup\n",
    "from icecream import ic\n",
    "import numpy as np\n",
    "import pandas as pd\n",
    "import requests"
   ]
  },
  {
   "cell_type": "code",
   "execution_count": 2,
   "id": "signal-teens",
   "metadata": {
    "ExecuteTime": {
     "end_time": "2021-01-19T23:24:47.484454Z",
     "start_time": "2021-01-19T23:24:46.494346Z"
    }
   },
   "outputs": [
    {
     "name": "stdout",
     "output_type": "stream",
     "text": [
      "https://sfbay.craigslist.org/d/musical-instruments/search/msa\n"
     ]
    }
   ],
   "source": [
    "instrument_main = requests.get('https://sfbay.craigslist.org/d/musical-instruments/search/msa')\n",
    "print(instrument_main.url)\n",
    "page = instrument_main.text\n",
    "soup = BeautifulSoup(page, \"html5lib\")\n",
    "\n",
    "# 'soup' is an \"object instance\". \n",
    "# html is the object we just made that we want to \"soup up\" (get it??).\n",
    "# 'html5lib' i guess is the version of parser we use.  Vinny said don't touch \n",
    "# this for now."
   ]
  },
  {
   "cell_type": "code",
   "execution_count": 4,
   "id": "amended-michael",
   "metadata": {
    "ExecuteTime": {
     "end_time": "2021-01-19T23:24:59.157726Z",
     "start_time": "2021-01-19T23:24:59.129116Z"
    }
   },
   "outputs": [
    {
     "data": {
      "text/plain": [
       "120"
      ]
     },
     "execution_count": 4,
     "metadata": {},
     "output_type": "execute_result"
    }
   ],
   "source": [
    "base_html=soup.find_all('li', class_='result-row')\n",
    "len(base_html)"
   ]
  },
  {
   "cell_type": "code",
   "execution_count": null,
   "id": "continued-instrument",
   "metadata": {},
   "outputs": [],
   "source": [
    "#### Trying to get all the 5 features togther into 1 function.  \n",
    "#### Maybe 1 cell.\n",
    "\n",
    "\n",
    "def price_pics_hood_title_datetime(html_in):\n",
    "    has_pics_bool = []\n",
    "    price = []\n",
    "    just_titles = []\n",
    "    HOOD_list = []\n",
    "    just_posted_datetimes = []\n",
    "    \n",
    "    for res in html_in:\n",
    "        \"\"\"PRICE\"\"\"\n",
    "        ## Loop for finding the PRICE of a single page of 120 results\n",
    "        p = res.find('span', class_='result-price').text\n",
    "        price.append(p)\n",
    "        \n",
    "        \"\"\"PICS\"\"\"\n",
    "        ## Loop for finding the boolean HAS PICS of a single page of \n",
    "        ## 120 results\n",
    "        if res.find('span', class_='pictag') is None:\n",
    "            has_pics_bool.append(\"False\")\n",
    "        else:\n",
    "            has_pics_bool.append('True')\n",
    "      \n",
    "    \n",
    "        \"\"\"NEIGHBORHOOD\"\"\"\n",
    "        ## Loop for finding NEIGHBORHOOD name for a single page of 120 results\n",
    "        for i in html_in:\n",
    "            if i.find('span', class_=\"result-hood\") is None:\n",
    "                HOOD_list.append(\"NONE\")\n",
    "            else:    \n",
    "                h = i.find('span', class_=\"result-hood\").text\n",
    "                HOOD_list.append(h)\n",
    "         \n",
    "    \"\"\"TITLE\"\"\"    \n",
    "    ## Loop for TITLE    \n",
    "    titles=soup.find_all('a', class_=\"result-title hdrlnk\")\n",
    "    for title in titles:\n",
    "        just_titles.append(title.text) \n",
    "\n",
    "    \"\"\"DATETIME\"\"\"\n",
    "    posted_datetimes=soup.find_all(class_='result-date')\n",
    "    for posted_datetime in posted_datetimes:\n",
    "        if posted_datetime.has_attr('datetime'):\n",
    "            just_posted_datetimes.append(posted_datetime['datetime'])       \n",
    "            \n",
    "    comp_dict = {'price': price, \n",
    "                'pics': has_pics_bool,\n",
    "                'hood': HOOD_list,\n",
    "                'title': just_titles,\n",
    "                'datetimes': just_posted_datetimes}\n",
    "    \n",
    "    print(len(price))\n",
    "    print(len(has_pics_bool))\n",
    "    print(len(HOOD_list))\n",
    "    print(len(just_titles))\n",
    "    print(len(just_posted_datetimes))\n",
    "          \n",
    "    return comp_dict"
   ]
  },
  {
   "cell_type": "code",
   "execution_count": null,
   "id": "knowing-pocket",
   "metadata": {},
   "outputs": [],
   "source": [
    "## CALLS the function\n",
    "base_dict = price_pics_hood_title_datetime(html_base)\n",
    "base_dict;"
   ]
  },
  {
   "cell_type": "code",
   "execution_count": null,
   "id": "blond-shooting",
   "metadata": {},
   "outputs": [],
   "source": []
  },
  {
   "cell_type": "code",
   "execution_count": null,
   "id": "solved-knowing",
   "metadata": {},
   "outputs": [],
   "source": []
  },
  {
   "cell_type": "code",
   "execution_count": null,
   "id": "satisfactory-pacific",
   "metadata": {},
   "outputs": [],
   "source": []
  },
  {
   "cell_type": "code",
   "execution_count": 5,
   "id": "radio-exhibition",
   "metadata": {
    "ExecuteTime": {
     "end_time": "2021-01-19T23:25:15.934611Z",
     "start_time": "2021-01-19T23:25:15.552984Z"
    }
   },
   "outputs": [
    {
     "ename": "NameError",
     "evalue": "name 'res_d' is not defined",
     "output_type": "error",
     "traceback": [
      "\u001b[0;31m---------------------------------------------------------------------------\u001b[0m",
      "\u001b[0;31mNameError\u001b[0m                                 Traceback (most recent call last)",
      "\u001b[0;32m<ipython-input-5-c8ae59bda633>\u001b[0m in \u001b[0;36m<module>\u001b[0;34m\u001b[0m\n\u001b[0;32m----> 1\u001b[0;31m \u001b[0mprint\u001b[0m\u001b[0;34m(\u001b[0m\u001b[0;34m'Number of items in'\u001b[0m\u001b[0;34m,\u001b[0m \u001b[0;34m'price:'\u001b[0m\u001b[0;34m,\u001b[0m \u001b[0mlen\u001b[0m\u001b[0;34m(\u001b[0m\u001b[0mres_d\u001b[0m\u001b[0;34m[\u001b[0m\u001b[0;34m'price'\u001b[0m\u001b[0;34m]\u001b[0m\u001b[0;34m)\u001b[0m\u001b[0;34m)\u001b[0m\u001b[0;34m\u001b[0m\u001b[0;34m\u001b[0m\u001b[0m\n\u001b[0m\u001b[1;32m      2\u001b[0m \u001b[0mprint\u001b[0m\u001b[0;34m(\u001b[0m\u001b[0;34m'Number of items in'\u001b[0m\u001b[0;34m,\u001b[0m \u001b[0;34m'neighborhood:'\u001b[0m\u001b[0;34m,\u001b[0m \u001b[0mlen\u001b[0m\u001b[0;34m(\u001b[0m\u001b[0mHOOD_list\u001b[0m\u001b[0;34m)\u001b[0m\u001b[0;34m)\u001b[0m\u001b[0;34m\u001b[0m\u001b[0;34m\u001b[0m\u001b[0m\n\u001b[1;32m      3\u001b[0m \u001b[0mprint\u001b[0m\u001b[0;34m(\u001b[0m\u001b[0;34m'Number of items in'\u001b[0m\u001b[0;34m,\u001b[0m \u001b[0;34m'just_titles:'\u001b[0m\u001b[0;34m,\u001b[0m \u001b[0mlen\u001b[0m\u001b[0;34m(\u001b[0m\u001b[0mjust_titles\u001b[0m\u001b[0;34m)\u001b[0m\u001b[0;34m)\u001b[0m\u001b[0;34m\u001b[0m\u001b[0;34m\u001b[0m\u001b[0m\n\u001b[1;32m      4\u001b[0m \u001b[0mprint\u001b[0m\u001b[0;34m(\u001b[0m\u001b[0;34m'Number of items in'\u001b[0m\u001b[0;34m,\u001b[0m \u001b[0;34m'just_posted_datetimes:'\u001b[0m\u001b[0;34m,\u001b[0m \u001b[0mlen\u001b[0m\u001b[0;34m(\u001b[0m\u001b[0mjust_posted_datetimes\u001b[0m\u001b[0;34m)\u001b[0m\u001b[0;34m)\u001b[0m\u001b[0;34m\u001b[0m\u001b[0;34m\u001b[0m\u001b[0m\n\u001b[1;32m      5\u001b[0m \u001b[0mprint\u001b[0m\u001b[0;34m(\u001b[0m\u001b[0;34m'Number of items in'\u001b[0m\u001b[0;34m,\u001b[0m \u001b[0;34m'has_pics_bool:'\u001b[0m\u001b[0;34m,\u001b[0m \u001b[0mlen\u001b[0m\u001b[0;34m(\u001b[0m\u001b[0mres_d\u001b[0m\u001b[0;34m[\u001b[0m\u001b[0;34m'pics'\u001b[0m\u001b[0;34m]\u001b[0m\u001b[0;34m)\u001b[0m\u001b[0;34m)\u001b[0m\u001b[0;34m\u001b[0m\u001b[0;34m\u001b[0m\u001b[0m\n",
      "\u001b[0;31mNameError\u001b[0m: name 'res_d' is not defined"
     ]
    }
   ],
   "source": [
    "print('Number of items in', 'price:', len(res_d['price']))\n",
    "print('Number of items in', 'neighborhood:', len(HOOD_list))\n",
    "print('Number of items in', 'just_titles:', len(just_titles))\n",
    "print('Number of items in', 'just_posted_datetimes:', len(just_posted_datetimes))\n",
    "print('Number of items in', 'has_pics_bool:', len(res_d['pics']))"
   ]
  },
  {
   "cell_type": "code",
   "execution_count": 6,
   "id": "hollywood-nitrogen",
   "metadata": {
    "ExecuteTime": {
     "end_time": "2021-01-19T23:25:25.357273Z",
     "start_time": "2021-01-19T23:25:25.341054Z"
    }
   },
   "outputs": [
    {
     "ename": "NameError",
     "evalue": "name 'res_d' is not defined",
     "output_type": "error",
     "traceback": [
      "\u001b[0;31m---------------------------------------------------------------------------\u001b[0m",
      "\u001b[0;31mNameError\u001b[0m                                 Traceback (most recent call last)",
      "\u001b[0;32m<ipython-input-6-13e321dcafeb>\u001b[0m in \u001b[0;36m<module>\u001b[0;34m\u001b[0m\n\u001b[0;32m----> 1\u001b[0;31m \u001b[0;32mfor\u001b[0m \u001b[0mi\u001b[0m\u001b[0;34m,\u001b[0m \u001b[0mitem\u001b[0m \u001b[0;32min\u001b[0m \u001b[0menumerate\u001b[0m\u001b[0;34m(\u001b[0m\u001b[0mzip\u001b[0m\u001b[0;34m(\u001b[0m\u001b[0mres_d\u001b[0m\u001b[0;34m[\u001b[0m\u001b[0;34m'price'\u001b[0m\u001b[0;34m]\u001b[0m\u001b[0;34m,\u001b[0m \u001b[0mHOOD_list\u001b[0m\u001b[0;34m,\u001b[0m \u001b[0mjust_titles\u001b[0m\u001b[0;34m,\u001b[0m \u001b[0mjust_posted_datetimes\u001b[0m\u001b[0;34m,\u001b[0m \u001b[0mres_d\u001b[0m\u001b[0;34m[\u001b[0m\u001b[0;34m'pics'\u001b[0m\u001b[0;34m]\u001b[0m\u001b[0;34m)\u001b[0m\u001b[0;34m)\u001b[0m\u001b[0;34m:\u001b[0m\u001b[0;34m\u001b[0m\u001b[0;34m\u001b[0m\u001b[0m\n\u001b[0m\u001b[1;32m      2\u001b[0m     \u001b[0mprint\u001b[0m\u001b[0;34m(\u001b[0m\u001b[0;34mf'{i}: \\tPrice: {item[0]}; \\n\\tNeighborhood? {item[1]}; \\n\\tTitle? {item[2]}; \\n\\tDatetime{item[3]}; \\n\\tPics? {item[4]}'\u001b[0m\u001b[0;34m)\u001b[0m\u001b[0;34m\u001b[0m\u001b[0;34m\u001b[0m\u001b[0m\n\u001b[1;32m      3\u001b[0m \u001b[0;34m\u001b[0m\u001b[0m\n",
      "\u001b[0;31mNameError\u001b[0m: name 'res_d' is not defined"
     ]
    }
   ],
   "source": [
    "for i, item in enumerate(zip(res_d['price'], HOOD_list, just_titles, just_posted_datetimes, res_d['pics'])):\n",
    "    print(f'{i}: \\tPrice: {item[0]}; \\n\\tNeighborhood? {item[1]}; \\n\\tTitle? {item[2]}; \\n\\tDatetime{item[3]}; \\n\\tPics? {item[4]}')\n",
    "    "
   ]
  },
  {
   "cell_type": "code",
   "execution_count": 7,
   "id": "understood-cinema",
   "metadata": {
    "ExecuteTime": {
     "end_time": "2021-01-19T23:25:32.039326Z",
     "start_time": "2021-01-19T23:25:32.023362Z"
    }
   },
   "outputs": [
    {
     "ename": "NameError",
     "evalue": "name 'res_d' is not defined",
     "output_type": "error",
     "traceback": [
      "\u001b[0;31m---------------------------------------------------------------------------\u001b[0m",
      "\u001b[0;31mNameError\u001b[0m                                 Traceback (most recent call last)",
      "\u001b[0;32m<ipython-input-7-b7803bdf820d>\u001b[0m in \u001b[0;36m<module>\u001b[0;34m\u001b[0m\n\u001b[0;32m----> 1\u001b[0;31m res_dict = {'price': res_d['price'],\n\u001b[0m\u001b[1;32m      2\u001b[0m             \u001b[0;34m'neighborhood'\u001b[0m\u001b[0;34m:\u001b[0m \u001b[0mHOOD_list\u001b[0m\u001b[0;34m,\u001b[0m\u001b[0;34m\u001b[0m\u001b[0;34m\u001b[0m\u001b[0m\n\u001b[1;32m      3\u001b[0m             \u001b[0;34m'title'\u001b[0m\u001b[0;34m:\u001b[0m \u001b[0mjust_titles\u001b[0m\u001b[0;34m,\u001b[0m\u001b[0;34m\u001b[0m\u001b[0;34m\u001b[0m\u001b[0m\n\u001b[1;32m      4\u001b[0m             \u001b[0;34m'datetime'\u001b[0m\u001b[0;34m:\u001b[0m \u001b[0mjust_posted_datetimes\u001b[0m\u001b[0;34m,\u001b[0m\u001b[0;34m\u001b[0m\u001b[0;34m\u001b[0m\u001b[0m\n\u001b[1;32m      5\u001b[0m             'has_pics': res_d['pics']}\n",
      "\u001b[0;31mNameError\u001b[0m: name 'res_d' is not defined"
     ]
    }
   ],
   "source": [
    "res_dict = {'price': res_d['price'],\n",
    "            'neighborhood': HOOD_list,\n",
    "            'title': just_titles,\n",
    "            'datetime': just_posted_datetimes,\n",
    "            'has_pics': res_d['pics']}\n",
    "\n",
    "res_dict"
   ]
  },
  {
   "cell_type": "code",
   "execution_count": 8,
   "id": "altered-brunswick",
   "metadata": {
    "ExecuteTime": {
     "end_time": "2021-01-19T23:25:40.249540Z",
     "start_time": "2021-01-19T23:25:40.236047Z"
    }
   },
   "outputs": [
    {
     "ename": "NameError",
     "evalue": "name 'res_dict' is not defined",
     "output_type": "error",
     "traceback": [
      "\u001b[0;31m---------------------------------------------------------------------------\u001b[0m",
      "\u001b[0;31mNameError\u001b[0m                                 Traceback (most recent call last)",
      "\u001b[0;32m<ipython-input-8-10731804eba8>\u001b[0m in \u001b[0;36m<module>\u001b[0;34m\u001b[0m\n\u001b[0;32m----> 1\u001b[0;31m \u001b[0mdf_initial\u001b[0m \u001b[0;34m=\u001b[0m \u001b[0mpd\u001b[0m\u001b[0;34m.\u001b[0m\u001b[0mDataFrame\u001b[0m\u001b[0;34m(\u001b[0m\u001b[0mres_dict\u001b[0m\u001b[0;34m)\u001b[0m\u001b[0;34m\u001b[0m\u001b[0;34m\u001b[0m\u001b[0m\n\u001b[0m\u001b[1;32m      2\u001b[0m \u001b[0mdf_initial\u001b[0m\u001b[0;34m\u001b[0m\u001b[0;34m\u001b[0m\u001b[0m\n",
      "\u001b[0;31mNameError\u001b[0m: name 'res_dict' is not defined"
     ]
    }
   ],
   "source": [
    "df_initial = pd.DataFrame(res_dict)\n",
    "df_initial"
   ]
  },
  {
   "cell_type": "code",
   "execution_count": null,
   "id": "contemporary-programming",
   "metadata": {},
   "outputs": [],
   "source": [
    "['3120','3240','3360',\n",
    "         '3480','3600','3720','3840','3960','4080','4200',\n",
    "         '4320','4440','4560','4680','4800','4920','5040',\n",
    "         '5160','5280','5400','5520','5640','5760','5880',\n",
    "         '6000','6120','6240','6360','6480','6600','6720',\n",
    "         '6840','6960','7080','7200','7320','7440','7560',\n",
    "         '7680','7800','7920','8040','8160','8280','8400',\n",
    "         '8520','8640','8760','8880']"
   ]
  }
 ],
 "metadata": {
  "kernelspec": {
   "display_name": "Python 3",
   "language": "python",
   "name": "python3"
  },
  "language_info": {
   "codemirror_mode": {
    "name": "ipython",
    "version": 3
   },
   "file_extension": ".py",
   "mimetype": "text/x-python",
   "name": "python",
   "nbconvert_exporter": "python",
   "pygments_lexer": "ipython3",
   "version": "3.8.5"
  },
  "toc": {
   "base_numbering": 1,
   "nav_menu": {},
   "number_sections": true,
   "sideBar": true,
   "skip_h1_title": false,
   "title_cell": "Table of Contents",
   "title_sidebar": "Contents",
   "toc_cell": false,
   "toc_position": {},
   "toc_section_display": true,
   "toc_window_display": false
  },
  "varInspector": {
   "cols": {
    "lenName": 16,
    "lenType": 16,
    "lenVar": 40
   },
   "kernels_config": {
    "python": {
     "delete_cmd_postfix": "",
     "delete_cmd_prefix": "del ",
     "library": "var_list.py",
     "varRefreshCmd": "print(var_dic_list())"
    },
    "r": {
     "delete_cmd_postfix": ") ",
     "delete_cmd_prefix": "rm(",
     "library": "var_list.r",
     "varRefreshCmd": "cat(var_dic_list()) "
    }
   },
   "types_to_exclude": [
    "module",
    "function",
    "builtin_function_or_method",
    "instance",
    "_Feature"
   ],
   "window_display": false
  }
 },
 "nbformat": 4,
 "nbformat_minor": 5
}
