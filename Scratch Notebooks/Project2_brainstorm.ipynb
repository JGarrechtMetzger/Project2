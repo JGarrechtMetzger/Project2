{
 "cells": [
  {
   "cell_type": "markdown",
   "metadata": {
    "execution": {
     "iopub.execute_input": "2021-01-11T17:40:15.427520Z",
     "iopub.status.busy": "2021-01-11T17:40:15.425826Z",
     "iopub.status.idle": "2021-01-11T17:40:15.445784Z",
     "shell.execute_reply": "2021-01-11T17:40:15.437124Z",
     "shell.execute_reply.started": "2021-01-11T17:40:15.427464Z"
    }
   },
   "source": [
    "## Potential Clients\n",
    "* Digikey\n",
    "* Mouser\n",
    "* Alibaba as a check for garbage\n"
   ]
  },
  {
   "cell_type": "markdown",
   "metadata": {
    "execution": {
     "iopub.status.busy": "2021-01-11T17:39:43.886411Z",
     "iopub.status.idle": "2021-01-11T17:39:43.896306Z",
     "shell.execute_reply": "2021-01-11T17:39:43.893970Z"
    }
   },
   "source": [
    "## Questions we might answer for clients using data\n",
    "* Looking at relationship of price and length/size of datasheet compared to their \"recommended alternative\" on the same page.\n"
   ]
  },
  {
   "cell_type": "markdown",
   "metadata": {},
   "source": [
    "## Possible Inputs\n",
    "* Aslo Digikey\n",
    "* Also Mouser\n"
   ]
  },
  {
   "cell_type": "markdown",
   "metadata": {},
   "source": [
    "## google searches\n",
    "* Wikipedia page views\n",
    "* Competition (concurrent releases)\n",
    "* International... stuff..."
   ]
  },
  {
   "cell_type": "code",
   "execution_count": 3,
   "metadata": {
    "execution": {
     "iopub.execute_input": "2021-01-11T18:20:28.353366Z",
     "iopub.status.busy": "2021-01-11T18:20:28.349247Z",
     "iopub.status.idle": "2021-01-11T18:20:28.547637Z",
     "shell.execute_reply": "2021-01-11T18:20:28.486710Z",
     "shell.execute_reply.started": "2021-01-11T18:20:28.353200Z"
    }
   },
   "outputs": [
    {
     "ename": "NameError",
     "evalue": "name 'a' is not defined",
     "output_type": "error",
     "traceback": [
      "\u001b[0;31m---------------------------------------------------------------------------\u001b[0m",
      "\u001b[0;31mNameError\u001b[0m                                 Traceback (most recent call last)",
      "\u001b[0;32m<ipython-input-3-e8d606e78fd4>\u001b[0m in \u001b[0;36m<module>\u001b[0;34m\u001b[0m\n\u001b[0;32m----> 1\u001b[0;31m \u001b[0mlist\u001b[0m\u001b[0;34m(\u001b[0m\u001b[0ma\u001b[0m\u001b[0;34m)\u001b[0m\u001b[0;34m\u001b[0m\u001b[0;34m\u001b[0m\u001b[0m\n\u001b[0m",
      "\u001b[0;31mNameError\u001b[0m: name 'a' is not defined"
     ]
    }
   ],
   "source": [
    "list()"
   ]
  },
  {
   "cell_type": "code",
   "execution_count": null,
   "metadata": {},
   "outputs": [],
   "source": [
    "int(a)"
   ]
  }
 ],
 "metadata": {
  "kernelspec": {
   "display_name": "Python 3",
   "language": "python",
   "name": "python3"
  },
  "language_info": {
   "codemirror_mode": {
    "name": "ipython",
    "version": 3
   },
   "file_extension": ".py",
   "mimetype": "text/x-python",
   "name": "python",
   "nbconvert_exporter": "python",
   "pygments_lexer": "ipython3",
   "version": "3.8.5"
  },
  "toc-autonumbering": true
 },
 "nbformat": 4,
 "nbformat_minor": 4
}
