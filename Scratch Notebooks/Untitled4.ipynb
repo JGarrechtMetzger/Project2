{
 "cells": [
  {
   "cell_type": "code",
   "execution_count": 1,
   "metadata": {
    "ExecuteTime": {
     "end_time": "2021-01-17T20:58:11.535226Z",
     "start_time": "2021-01-17T20:58:10.901833Z"
    }
   },
   "outputs": [],
   "source": [
    "from bs4 import BeautifulSoup\n",
    "import requests"
   ]
  },
  {
   "cell_type": "code",
   "execution_count": 2,
   "metadata": {
    "ExecuteTime": {
     "end_time": "2021-01-17T20:58:11.910737Z",
     "start_time": "2021-01-17T20:58:11.539625Z"
    }
   },
   "outputs": [
    {
     "name": "stdout",
     "output_type": "stream",
     "text": [
      "https://sfbay.craigslist.org/d/musical-instruments/search/msa\n"
     ]
    }
   ],
   "source": [
    "inst_main = requests.get('https://sfbay.craigslist.org/d/musical-instruments/search/msa')\n",
    "print(inst_main.url)"
   ]
  },
  {
   "cell_type": "code",
   "execution_count": 3,
   "metadata": {
    "ExecuteTime": {
     "end_time": "2021-01-17T20:58:12.333413Z",
     "start_time": "2021-01-17T20:58:11.914555Z"
    }
   },
   "outputs": [],
   "source": [
    "html = inst_main.text\n",
    "\n",
    "# 'soup' is an \"object instance\". \n",
    "# html is the object we just made that we want to \"soup up\" (get it??).\n",
    "# 'html5lib' i guess is the version of parser we use.  Vinny said don't touch this for now.\n",
    "\n",
    "soup = BeautifulSoup(html, \"html5lib\")"
   ]
  },
  {
   "cell_type": "code",
   "execution_count": 4,
   "metadata": {
    "ExecuteTime": {
     "end_time": "2021-01-17T20:58:12.499316Z",
     "start_time": "2021-01-17T20:58:12.336047Z"
    }
   },
   "outputs": [
    {
     "ename": "TypeError",
     "evalue": "'NoneType' object is not subscriptable",
     "output_type": "error",
     "traceback": [
      "\u001b[0;31m---------------------------------------------------------------------------\u001b[0m",
      "\u001b[0;31mTypeError\u001b[0m                                 Traceback (most recent call last)",
      "\u001b[0;32m<ipython-input-4-402e181ab8fb>\u001b[0m in \u001b[0;36m<module>\u001b[0;34m\u001b[0m\n\u001b[1;32m      1\u001b[0m \u001b[0mjust_url\u001b[0m\u001b[0;34m=\u001b[0m\u001b[0msoup\u001b[0m\u001b[0;34m.\u001b[0m\u001b[0mfind\u001b[0m\u001b[0;34m(\u001b[0m\u001b[0;34m'a'\u001b[0m\u001b[0;34m,\u001b[0m\u001b[0mid\u001b[0m\u001b[0;34m=\u001b[0m\u001b[0;34m\"postid_7262709146\"\u001b[0m\u001b[0;34m)\u001b[0m\u001b[0;34m\u001b[0m\u001b[0;34m\u001b[0m\u001b[0m\n\u001b[1;32m      2\u001b[0m \u001b[0;31m# \"In an 'a' tag with this specific ID...show me everything\"\u001b[0m\u001b[0;34m\u001b[0m\u001b[0;34m\u001b[0m\u001b[0;34m\u001b[0m\u001b[0m\n\u001b[0;32m----> 3\u001b[0;31m \u001b[0mjust_url\u001b[0m\u001b[0;34m[\u001b[0m\u001b[0;34m'href'\u001b[0m\u001b[0;34m]\u001b[0m\u001b[0;34m\u001b[0m\u001b[0;34m\u001b[0m\u001b[0m\n\u001b[0m",
      "\u001b[0;31mTypeError\u001b[0m: 'NoneType' object is not subscriptable"
     ]
    }
   ],
   "source": [
    "just_url=soup.find('a',id=\"postid_7262709146\")\n",
    "# \"In an 'a' tag with this specific ID...show me everything\"\n",
    "just_url['href']"
   ]
  },
  {
   "cell_type": "code",
   "execution_count": null,
   "metadata": {
    "ExecuteTime": {
     "end_time": "2021-01-17T20:58:12.502671Z",
     "start_time": "2021-01-17T20:58:10.918Z"
    }
   },
   "outputs": [],
   "source": [
    "soup.find(id=\"postid_7262709146\")['href']\n",
    "# \"In an 'a' tag with this specific ID...show me 'href'\n"
   ]
  },
  {
   "cell_type": "code",
   "execution_count": null,
   "metadata": {
    "ExecuteTime": {
     "end_time": "2021-01-17T20:58:12.504551Z",
     "start_time": "2021-01-17T20:58:10.921Z"
    }
   },
   "outputs": [],
   "source": [
    "test_var=soup.find_all('a', class_='result-title hdrlnk')\n",
    "test_var"
   ]
  },
  {
   "cell_type": "code",
   "execution_count": null,
   "metadata": {
    "ExecuteTime": {
     "end_time": "2021-01-17T20:58:12.507127Z",
     "start_time": "2021-01-17T20:58:10.922Z"
    }
   },
   "outputs": [],
   "source": [
    "<a href=\"https://sfbay.craigslist.org/eby/msg/d/berkeley-ibanez-ergodyne-edc700-string/7262709146.html\" data-id=\"7262709146\" class=\"result-title hdrlnk\" id=\"postid_7262709146\">Ibanez Ergodyne EDC700 4 string bass guitar</a>"
   ]
  },
  {
   "cell_type": "code",
   "execution_count": null,
   "metadata": {
    "ExecuteTime": {
     "end_time": "2021-01-17T20:58:12.509456Z",
     "start_time": "2021-01-17T20:58:10.925Z"
    }
   },
   "outputs": [],
   "source": [
    "# for each 'a' tag in test_var print the 'href' portion.\n",
    "for title in test_var:\n",
    " \n",
    "    print(title['href'])"
   ]
  },
  {
   "cell_type": "code",
   "execution_count": null,
   "metadata": {
    "ExecuteTime": {
     "end_time": "2021-01-17T20:58:12.533502Z",
     "start_time": "2021-01-17T20:58:10.927Z"
    }
   },
   "outputs": [],
   "source": [
    "for url in url_list:\n",
    "    go to the webpage and scrape the items i want.\n",
    "    send them to a list.\n",
    "    "
   ]
  },
  {
   "cell_type": "code",
   "execution_count": null,
   "metadata": {},
   "outputs": [],
   "source": []
  },
  {
   "cell_type": "code",
   "execution_count": null,
   "metadata": {},
   "outputs": [],
   "source": []
  }
 ],
 "metadata": {
  "kernelspec": {
   "display_name": "Python 3",
   "language": "python",
   "name": "python3"
  },
  "language_info": {
   "codemirror_mode": {
    "name": "ipython",
    "version": 3
   },
   "file_extension": ".py",
   "mimetype": "text/x-python",
   "name": "python",
   "nbconvert_exporter": "python",
   "pygments_lexer": "ipython3",
   "version": "3.8.5"
  },
  "toc": {
   "base_numbering": 1,
   "nav_menu": {},
   "number_sections": true,
   "sideBar": true,
   "skip_h1_title": false,
   "title_cell": "Table of Contents",
   "title_sidebar": "Contents",
   "toc_cell": false,
   "toc_position": {},
   "toc_section_display": true,
   "toc_window_display": false
  },
  "varInspector": {
   "cols": {
    "lenName": 16,
    "lenType": 16,
    "lenVar": 40
   },
   "kernels_config": {
    "python": {
     "delete_cmd_postfix": "",
     "delete_cmd_prefix": "del ",
     "library": "var_list.py",
     "varRefreshCmd": "print(var_dic_list())"
    },
    "r": {
     "delete_cmd_postfix": ") ",
     "delete_cmd_prefix": "rm(",
     "library": "var_list.r",
     "varRefreshCmd": "cat(var_dic_list()) "
    }
   },
   "types_to_exclude": [
    "module",
    "function",
    "builtin_function_or_method",
    "instance",
    "_Feature"
   ],
   "window_display": false
  }
 },
 "nbformat": 4,
 "nbformat_minor": 4
}
