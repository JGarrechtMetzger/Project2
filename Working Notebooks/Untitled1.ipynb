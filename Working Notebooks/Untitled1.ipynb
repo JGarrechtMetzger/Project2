{
 "cells": [
  {
   "cell_type": "code",
   "execution_count": 4,
   "id": "noble-assets",
   "metadata": {
    "ExecuteTime": {
     "end_time": "2021-01-24T23:00:35.140743Z",
     "start_time": "2021-01-24T23:00:34.080153Z"
    }
   },
   "outputs": [],
   "source": [
    "import requests\n",
    "from bs4 import BeautifulSoup\n",
    "\n",
    "response = requests.get('https://cnn.com')\n",
    "page = response.text\n",
    "soup = BeautifulSoup(page, 'html.parser')\n",
    "results = soup.find_all('li', class_='result-row')"
   ]
  },
  {
   "cell_type": "code",
   "execution_count": 10,
   "id": "embedded-sullivan",
   "metadata": {
    "ExecuteTime": {
     "end_time": "2021-01-24T23:02:51.134886Z",
     "start_time": "2021-01-24T23:02:51.122612Z"
    }
   },
   "outputs": [
    {
     "data": {
      "text/plain": [
       "bs4.element.ResultSet"
      ]
     },
     "execution_count": 10,
     "metadata": {},
     "output_type": "execute_result"
    }
   ],
   "source": [
    "type(results)"
   ]
  },
  {
   "cell_type": "code",
   "execution_count": 9,
   "id": "infrared-outdoors",
   "metadata": {
    "ExecuteTime": {
     "end_time": "2021-01-24T23:01:56.238814Z",
     "start_time": "2021-01-24T23:01:56.229693Z"
    }
   },
   "outputs": [
    {
     "data": {
      "text/plain": [
       "bs4.BeautifulSoup"
      ]
     },
     "execution_count": 9,
     "metadata": {},
     "output_type": "execute_result"
    }
   ],
   "source": [
    "type(soup)"
   ]
  },
  {
   "cell_type": "code",
   "execution_count": null,
   "id": "earlier-machine",
   "metadata": {},
   "outputs": [],
   "source": []
  }
 ],
 "metadata": {
  "kernelspec": {
   "display_name": "Python 3",
   "language": "python",
   "name": "python3"
  },
  "language_info": {
   "codemirror_mode": {
    "name": "ipython",
    "version": 3
   },
   "file_extension": ".py",
   "mimetype": "text/x-python",
   "name": "python",
   "nbconvert_exporter": "python",
   "pygments_lexer": "ipython3",
   "version": "3.8.5"
  },
  "toc": {
   "base_numbering": 1,
   "nav_menu": {},
   "number_sections": true,
   "sideBar": true,
   "skip_h1_title": false,
   "title_cell": "Table of Contents",
   "title_sidebar": "Contents",
   "toc_cell": false,
   "toc_position": {},
   "toc_section_display": true,
   "toc_window_display": false
  }
 },
 "nbformat": 4,
 "nbformat_minor": 5
}
