{
 "cells": [
  {
   "cell_type": "code",
   "execution_count": null,
   "id": "catholic-equation",
   "metadata": {},
   "outputs": [],
   "source": []
  },
  {
   "cell_type": "code",
   "execution_count": 1,
   "id": "secure-router",
   "metadata": {
    "ExecuteTime": {
     "end_time": "2021-01-24T22:45:20.567152Z",
     "start_time": "2021-01-24T22:45:17.214600Z"
    }
   },
   "outputs": [],
   "source": [
    "import requests\n",
    "\n",
    "x = requests.get('https://w3schools.com')\n"
   ]
  },
  {
   "cell_type": "code",
   "execution_count": 2,
   "id": "christian-patch",
   "metadata": {
    "ExecuteTime": {
     "end_time": "2021-01-24T22:45:26.118111Z",
     "start_time": "2021-01-24T22:45:26.112850Z"
    }
   },
   "outputs": [
    {
     "name": "stdout",
     "output_type": "stream",
     "text": [
      "200\n"
     ]
    }
   ],
   "source": [
    "print(x.status_code)"
   ]
  },
  {
   "cell_type": "code",
   "execution_count": 3,
   "id": "published-coordinate",
   "metadata": {
    "ExecuteTime": {
     "end_time": "2021-01-24T22:45:33.098771Z",
     "start_time": "2021-01-24T22:45:33.095247Z"
    }
   },
   "outputs": [
    {
     "name": "stdout",
     "output_type": "stream",
     "text": [
      "<Response [200]>\n"
     ]
    }
   ],
   "source": [
    "print(x)"
   ]
  },
  {
   "cell_type": "code",
   "execution_count": 4,
   "id": "framed-medicine",
   "metadata": {
    "ExecuteTime": {
     "end_time": "2021-01-24T22:45:42.699032Z",
     "start_time": "2021-01-24T22:45:42.684600Z"
    }
   },
   "outputs": [
    {
     "data": {
      "text/plain": [
       "requests.models.Response"
      ]
     },
     "execution_count": 4,
     "metadata": {},
     "output_type": "execute_result"
    }
   ],
   "source": [
    "type(x)"
   ]
  },
  {
   "cell_type": "code",
   "execution_count": null,
   "id": "chief-retail",
   "metadata": {},
   "outputs": [],
   "source": []
  }
 ],
 "metadata": {
  "kernelspec": {
   "display_name": "Python 3",
   "language": "python",
   "name": "python3"
  },
  "language_info": {
   "codemirror_mode": {
    "name": "ipython",
    "version": 3
   },
   "file_extension": ".py",
   "mimetype": "text/x-python",
   "name": "python",
   "nbconvert_exporter": "python",
   "pygments_lexer": "ipython3",
   "version": "3.8.5"
  },
  "toc": {
   "base_numbering": 1,
   "nav_menu": {},
   "number_sections": true,
   "sideBar": true,
   "skip_h1_title": false,
   "title_cell": "Table of Contents",
   "title_sidebar": "Contents",
   "toc_cell": false,
   "toc_position": {},
   "toc_section_display": true,
   "toc_window_display": false
  }
 },
 "nbformat": 4,
 "nbformat_minor": 5
}
