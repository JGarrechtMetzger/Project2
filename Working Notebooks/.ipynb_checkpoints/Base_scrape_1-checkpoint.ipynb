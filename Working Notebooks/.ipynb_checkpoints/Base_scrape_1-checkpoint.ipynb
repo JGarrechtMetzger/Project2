{
 "cells": [
  {
   "cell_type": "markdown",
   "id": "increased-preserve",
   "metadata": {},
   "source": [
    "# Imports"
   ]
  },
  {
   "cell_type": "code",
   "execution_count": 1,
   "id": "interior-logan",
   "metadata": {
    "ExecuteTime": {
     "end_time": "2021-01-20T05:04:58.055298Z",
     "start_time": "2021-01-20T05:04:56.822622Z"
    },
    "collapsed": true
   },
   "outputs": [],
   "source": [
    "from bs4 import BeautifulSoup\n",
    "import numpy as np\n",
    "import pandas as pd\n",
    "import requests"
   ]
  },
  {
   "cell_type": "markdown",
   "id": "asian-lyric",
   "metadata": {},
   "source": [
    "# Website URL list construction"
   ]
  },
  {
   "cell_type": "code",
   "execution_count": 2,
   "id": "binary-reference",
   "metadata": {
    "ExecuteTime": {
     "end_time": "2021-01-20T05:04:58.080592Z",
     "start_time": "2021-01-20T05:04:58.057988Z"
    },
    "run_control": {
     "marked": false
    }
   },
   "outputs": [],
   "source": [
    "## The 'target_url' is the homepage of the target website\n",
    "## The 'url_prefix' is the specific URL you use to append with the\n",
    "## for-loop below.\n",
    "\n",
    "target_url = 'https://sfbay.craigslist.org'\n",
    "url_prefix = 'https://sfbay.craigslist.org/d/musical-instruments/search/msa?s='\n",
    "\n",
    "pages = ['120','240','360','480','600','720','840',\n",
    "         '960','1080','1200','1320','1440','1560','1680',\n",
    "         '1800','1920','2040','2160','2280','2400','2520',\n",
    "         '2640','2760','2880','3000']\n",
    "        \n",
    "## This tests to make sure the URL list compiler is working\n",
    "## on 3 pages.\n",
    "# pages = ['120', '240', '360']\n",
    "\n",
    "url_list = []\n",
    "\n",
    "## This loop takes the base URL and adds just the string from the\n",
    "## 'pages' object above so that each 'url' that goes into the\n",
    "## 'url_list' is in the correct step of 120 results.\n",
    "\n",
    "for page in pages:\n",
    "    url = url_prefix + page\n",
    "    url_list.append(url)"
   ]
  },
  {
   "cell_type": "code",
   "execution_count": 3,
   "id": "funny-kingdom",
   "metadata": {
    "ExecuteTime": {
     "end_time": "2021-01-20T05:04:58.104580Z",
     "start_time": "2021-01-20T05:04:58.085988Z"
    }
   },
   "outputs": [],
   "source": [
    "## This prints the 'url_list' as a QC check.\n",
    "\n",
    "url_list"
   ]
  },
  {
   "cell_type": "markdown",
   "id": "declared-familiar",
   "metadata": {},
   "source": [
    "# Scraping for-loop\n",
    "\n",
    "* This is what I'm calling a \"dynamic\" scraping function.  It's dynamic in the sense that it collects and defines the html as objects in real time.  \n",
    "* Another method would be what I'm calling \"static\" scraping where the output from the 'url in url_list' for-loop is put into a list outside of the function with the entirity of the url's html.  The scraping then happens to a static object.\n",
    "* Choose ** **ONE** ** approach: Dynamic or Static "
   ]
  },
  {
   "cell_type": "markdown",
   "id": "accredited-bobby",
   "metadata": {
    "ExecuteTime": {
     "end_time": "2021-01-24T22:37:06.275934Z",
     "start_time": "2021-01-24T22:37:06.269392Z"
    }
   },
   "source": [
    "## The \"dynamic\" method"
   ]
  },
  {
   "cell_type": "code",
   "execution_count": 6,
   "id": "perfect-pipeline",
   "metadata": {
    "ExecuteTime": {
     "end_time": "2021-01-24T22:41:50.543620Z",
     "start_time": "2021-01-24T22:41:50.531488Z"
    }
   },
   "outputs": [],
   "source": [
    "''' \n",
    "                            ****NOTE****\n",
    "The two empty lists 'df_list' and 'each_html_output' will\n",
    "need to be empty. Therefore, make sure to restart the kernal before\n",
    "running this cell.\n",
    "\n",
    "'''\n",
    "\n",
    "df_list = []\n",
    "each_html_output = []\n",
    "\n",
    "def attribute_scraping(starting_url):\n",
    "    \n",
    "    \"\"\" \n",
    "    These are the 5 attributes I am scraping from Craigslist. Any\n",
    "    additional pieces of information to be made into objects will\n",
    "    require \n",
    "    \n",
    "        * adding an empty list\n",
    "        \n",
    "        *an additional for-loop or if statement depending on the find \n",
    "            target\n",
    "        \n",
    "        * adding to the dictionary at the end of the this function\n",
    "        \n",
    "        * adding to the print statement set at the end of this function\n",
    "    \"\"\"\n",
    "    \n",
    "    has_pics_bool = []\n",
    "    price = []\n",
    "    just_titles = []\n",
    "    HOOD_list = []\n",
    "    just_posted_datetimes = []\n",
    "    \n",
    "    \"\"\"\n",
    "    Parameters\n",
    "    ----------\n",
    "    response = requests.get(url)\n",
    "        * This makes a request to the URL and returns a status code\n",
    "        \n",
    "    page = response.text\n",
    "        * the html text (str object) from the 'get(url)'\n",
    "        \n",
    "    soup = BeautifulSoup(page, 'html.parser')\n",
    "        * makes a BeautifulSoup object called 'page'\n",
    "        * utilizes the parser designated in quotes as the second\n",
    "            input of the method\n",
    "            \n",
    "    results = soup.find_all('li', class_='result-row')\n",
    "        * returns an element ResultSet object.\n",
    "        * this is the html text that was isolated from using the \n",
    "            'find()' or 'find_all()' methods.\n",
    "        * 'li' is an html list tag.\n",
    "        * 'class_' is the designator for a class attribute.\n",
    "            - Here this corresponds with the 'result_row' class \n",
    "    \n",
    "    \"\"\"\n",
    "    for url in url_list:\n",
    "            response = requests.get(url)\n",
    "            page = response.text\n",
    "            soup = BeautifulSoup(page, 'html.parser')\n",
    "            results = soup.find_all('li', class_='result-row')\n",
    "\n",
    "            \n",
    "        for res in results:\n",
    "            \"\"\"PRICE\"\"\"\n",
    "            ## Loop for finding PRICE for a single page of 120 results\n",
    "            p = res.find('span', class_='result-price').text\n",
    "            price.append(p)\n",
    "\n",
    "            \"\"\"PICS\"\"\"\n",
    "            ## Loop for finding the boolean HAS PICS of a single page of \n",
    "            ## 120 results. This tests whether >=1 picture is an attribute\n",
    "            ## of the post.\n",
    "            if res.find('span', class_='pictag') is None:\n",
    "                has_pics_bool.append(\"False\")\n",
    "            else:\n",
    "                has_pics_bool.append('True')\n",
    "\n",
    "\n",
    "            \"\"\"NEIGHBORHOOD\"\"\"\n",
    "            ## Loop for finding NEIGHBORHOOD name for a single page of 120\n",
    "            ## results.  This includes the drop down menu choices on\n",
    "            ## Craigslist as well as the manually entered neighborhoods.\n",
    "            if res.find('span', class_=\"result-hood\") is None:\n",
    "                HOOD_list.append(\"NONE\")\n",
    "            else:    \n",
    "                h = res.find('span', class_=\"result-hood\").text\n",
    "                HOOD_list.append(h)\n",
    "\n",
    "        \"\"\"TITLE\"\"\"    \n",
    "        ## Loop for finding TITLE for a single page of 120 results   \n",
    "        titles=soup.find_all('a', class_=\"result-title hdrlnk\")\n",
    "        for title in titles:\n",
    "            just_titles.append(title.text) \n",
    "\n",
    "        \"\"\"DATETIME\"\"\"\n",
    "        ## Loop for finding DATETIME for a single page of 120 results   \n",
    "        posted_datetimes=soup.find_all(class_='result-date')\n",
    "        for posted_datetime in posted_datetimes:\n",
    "            if posted_datetime.has_attr('datetime'):\n",
    "                just_posted_datetimes.append(posted_datetime['datetime'])       \n",
    "    \n",
    "    # Compilation dictionary of for-loop results       \n",
    "    comp_dict = {'price': price, \n",
    "                'pics': has_pics_bool,\n",
    "                'hood': HOOD_list,\n",
    "                'title': just_titles,\n",
    "                'datetimes': just_posted_datetimes}\n",
    "\n",
    "          \n",
    "    return comp_dict\n",
    "\n",
    "    print(len(price))\n",
    "    print(len(has_pics_bool))\n",
    "    print(len(HOOD_list))\n",
    "    print(len(just_titles))\n",
    "    print(len(just_posted_datetimes))"
   ]
  },
  {
   "cell_type": "markdown",
   "id": "informative-significance",
   "metadata": {},
   "source": [
    "Run the function and check the output dictionary."
   ]
  },
  {
   "cell_type": "code",
   "execution_count": 5,
   "id": "stopped-messaging",
   "metadata": {
    "ExecuteTime": {
     "end_time": "2021-01-20T05:05:21.818700Z",
     "start_time": "2021-01-20T05:04:58.172434Z"
    }
   },
   "outputs": [],
   "source": [
    "base_dict = attribute_scraping(target_url)\n",
    "base_dict"
   ]
  },
  {
   "cell_type": "markdown",
   "id": "attempted-adventure",
   "metadata": {},
   "source": [
    "Construct dataframe using dictionary"
   ]
  },
  {
   "cell_type": "code",
   "execution_count": 6,
   "id": "hollow-excellence",
   "metadata": {
    "ExecuteTime": {
     "end_time": "2021-01-20T05:05:21.876312Z",
     "start_time": "2021-01-20T05:05:21.820986Z"
    },
    "scrolled": true
   },
   "outputs": [
    {
     "data": {
      "text/html": [
       "<div>\n",
       "<style scoped>\n",
       "    .dataframe tbody tr th:only-of-type {\n",
       "        vertical-align: middle;\n",
       "    }\n",
       "\n",
       "    .dataframe tbody tr th {\n",
       "        vertical-align: top;\n",
       "    }\n",
       "\n",
       "    .dataframe thead th {\n",
       "        text-align: right;\n",
       "    }\n",
       "</style>\n",
       "<table border=\"1\" class=\"dataframe\">\n",
       "  <thead>\n",
       "    <tr style=\"text-align: right;\">\n",
       "      <th></th>\n",
       "      <th>price</th>\n",
       "      <th>pics</th>\n",
       "      <th>hood</th>\n",
       "      <th>title</th>\n",
       "      <th>datetimes</th>\n",
       "    </tr>\n",
       "  </thead>\n",
       "  <tbody>\n",
       "    <tr>\n",
       "      <th>0</th>\n",
       "      <td>$65</td>\n",
       "      <td>False</td>\n",
       "      <td>(hayward / castro valley)</td>\n",
       "      <td>Amperex bugle boy mullard   5ar4 gz34</td>\n",
       "      <td>2021-01-19 18:45</td>\n",
       "    </tr>\n",
       "    <tr>\n",
       "      <th>1</th>\n",
       "      <td>$700</td>\n",
       "      <td>False</td>\n",
       "      <td>(hayward / castro valley)</td>\n",
       "      <td>American standard fender precision bass wanted</td>\n",
       "      <td>2021-01-19 18:45</td>\n",
       "    </tr>\n",
       "    <tr>\n",
       "      <th>2</th>\n",
       "      <td>$75</td>\n",
       "      <td>True</td>\n",
       "      <td>(hayward / castro valley)</td>\n",
       "      <td>Jbl 2118h 8” woofer/midrange</td>\n",
       "      <td>2021-01-19 18:45</td>\n",
       "    </tr>\n",
       "    <tr>\n",
       "      <th>3</th>\n",
       "      <td>$10</td>\n",
       "      <td>True</td>\n",
       "      <td>(hayward / castro valley)</td>\n",
       "      <td>Crossovers 3 way</td>\n",
       "      <td>2021-01-19 18:45</td>\n",
       "    </tr>\n",
       "    <tr>\n",
       "      <th>4</th>\n",
       "      <td>$775</td>\n",
       "      <td>True</td>\n",
       "      <td>(hayward / castro valley)</td>\n",
       "      <td>Fractal Axefx ultra. (Mint)</td>\n",
       "      <td>2021-01-19 18:44</td>\n",
       "    </tr>\n",
       "    <tr>\n",
       "      <th>...</th>\n",
       "      <td>...</td>\n",
       "      <td>...</td>\n",
       "      <td>...</td>\n",
       "      <td>...</td>\n",
       "      <td>...</td>\n",
       "    </tr>\n",
       "    <tr>\n",
       "      <th>2875</th>\n",
       "      <td>$40</td>\n",
       "      <td>True</td>\n",
       "      <td>(marina / cow hollow)</td>\n",
       "      <td>Vox VX12 Celestion G12P-80 16 ohm Guitar Speak...</td>\n",
       "      <td>2021-01-17 09:00</td>\n",
       "    </tr>\n",
       "    <tr>\n",
       "      <th>2876</th>\n",
       "      <td>$900</td>\n",
       "      <td>True</td>\n",
       "      <td>(oakland piedmont / montclair)</td>\n",
       "      <td>King 2b+ Trombone</td>\n",
       "      <td>2021-01-17 09:00</td>\n",
       "    </tr>\n",
       "    <tr>\n",
       "      <th>2877</th>\n",
       "      <td>$250</td>\n",
       "      <td>True</td>\n",
       "      <td>(willow glen / cambrian)</td>\n",
       "      <td>Line 6 Pod HD500 Multi-Effects Guitar Pedal</td>\n",
       "      <td>2021-01-17 08:59</td>\n",
       "    </tr>\n",
       "    <tr>\n",
       "      <th>2878</th>\n",
       "      <td>$1,800</td>\n",
       "      <td>True</td>\n",
       "      <td>(novato)</td>\n",
       "      <td>1921 Chickering Baby Grand Piano</td>\n",
       "      <td>2021-01-17 08:57</td>\n",
       "    </tr>\n",
       "    <tr>\n",
       "      <th>2879</th>\n",
       "      <td>$50</td>\n",
       "      <td>True</td>\n",
       "      <td>(san jose east)</td>\n",
       "      <td>Selmar Bundy flute with case vintage</td>\n",
       "      <td>2021-01-17 08:53</td>\n",
       "    </tr>\n",
       "  </tbody>\n",
       "</table>\n",
       "<p>2880 rows × 5 columns</p>\n",
       "</div>"
      ],
      "text/plain": [
       "       price   pics                             hood  \\\n",
       "0        $65  False        (hayward / castro valley)   \n",
       "1       $700  False        (hayward / castro valley)   \n",
       "2        $75   True        (hayward / castro valley)   \n",
       "3        $10   True        (hayward / castro valley)   \n",
       "4       $775   True        (hayward / castro valley)   \n",
       "...      ...    ...                              ...   \n",
       "2875     $40   True            (marina / cow hollow)   \n",
       "2876    $900   True   (oakland piedmont / montclair)   \n",
       "2877    $250   True         (willow glen / cambrian)   \n",
       "2878  $1,800   True                         (novato)   \n",
       "2879     $50   True                  (san jose east)   \n",
       "\n",
       "                                                  title         datetimes  \n",
       "0                 Amperex bugle boy mullard   5ar4 gz34  2021-01-19 18:45  \n",
       "1        American standard fender precision bass wanted  2021-01-19 18:45  \n",
       "2                          Jbl 2118h 8” woofer/midrange  2021-01-19 18:45  \n",
       "3                                      Crossovers 3 way  2021-01-19 18:45  \n",
       "4                           Fractal Axefx ultra. (Mint)  2021-01-19 18:44  \n",
       "...                                                 ...               ...  \n",
       "2875  Vox VX12 Celestion G12P-80 16 ohm Guitar Speak...  2021-01-17 09:00  \n",
       "2876                                  King 2b+ Trombone  2021-01-17 09:00  \n",
       "2877        Line 6 Pod HD500 Multi-Effects Guitar Pedal  2021-01-17 08:59  \n",
       "2878                   1921 Chickering Baby Grand Piano  2021-01-17 08:57  \n",
       "2879               Selmar Bundy flute with case vintage  2021-01-17 08:53  \n",
       "\n",
       "[2880 rows x 5 columns]"
      ]
     },
     "execution_count": 6,
     "metadata": {},
     "output_type": "execute_result"
    }
   ],
   "source": [
    "df_base = pd.DataFrame(base_dict)\n",
    "df_base"
   ]
  },
  {
   "cell_type": "markdown",
   "id": "exposed-boards",
   "metadata": {},
   "source": [
    "Sort the results by the 'datetime' to order them by posting time."
   ]
  },
  {
   "cell_type": "code",
   "execution_count": 7,
   "id": "coral-parts",
   "metadata": {
    "ExecuteTime": {
     "end_time": "2021-01-20T05:05:21.904156Z",
     "start_time": "2021-01-20T05:05:21.881314Z"
    },
    "scrolled": true
   },
   "outputs": [
    {
     "data": {
      "text/html": [
       "<div>\n",
       "<style scoped>\n",
       "    .dataframe tbody tr th:only-of-type {\n",
       "        vertical-align: middle;\n",
       "    }\n",
       "\n",
       "    .dataframe tbody tr th {\n",
       "        vertical-align: top;\n",
       "    }\n",
       "\n",
       "    .dataframe thead th {\n",
       "        text-align: right;\n",
       "    }\n",
       "</style>\n",
       "<table border=\"1\" class=\"dataframe\">\n",
       "  <thead>\n",
       "    <tr style=\"text-align: right;\">\n",
       "      <th></th>\n",
       "      <th>price</th>\n",
       "      <th>pics</th>\n",
       "      <th>hood</th>\n",
       "      <th>title</th>\n",
       "      <th>datetimes</th>\n",
       "    </tr>\n",
       "  </thead>\n",
       "  <tbody>\n",
       "    <tr>\n",
       "      <th>2879</th>\n",
       "      <td>$50</td>\n",
       "      <td>True</td>\n",
       "      <td>(san jose east)</td>\n",
       "      <td>Selmar Bundy flute with case vintage</td>\n",
       "      <td>2021-01-17 08:53</td>\n",
       "    </tr>\n",
       "    <tr>\n",
       "      <th>2878</th>\n",
       "      <td>$1,800</td>\n",
       "      <td>True</td>\n",
       "      <td>(novato)</td>\n",
       "      <td>1921 Chickering Baby Grand Piano</td>\n",
       "      <td>2021-01-17 08:57</td>\n",
       "    </tr>\n",
       "    <tr>\n",
       "      <th>2877</th>\n",
       "      <td>$250</td>\n",
       "      <td>True</td>\n",
       "      <td>(willow glen / cambrian)</td>\n",
       "      <td>Line 6 Pod HD500 Multi-Effects Guitar Pedal</td>\n",
       "      <td>2021-01-17 08:59</td>\n",
       "    </tr>\n",
       "    <tr>\n",
       "      <th>2876</th>\n",
       "      <td>$900</td>\n",
       "      <td>True</td>\n",
       "      <td>(oakland piedmont / montclair)</td>\n",
       "      <td>King 2b+ Trombone</td>\n",
       "      <td>2021-01-17 09:00</td>\n",
       "    </tr>\n",
       "    <tr>\n",
       "      <th>2875</th>\n",
       "      <td>$40</td>\n",
       "      <td>True</td>\n",
       "      <td>(marina / cow hollow)</td>\n",
       "      <td>Vox VX12 Celestion G12P-80 16 ohm Guitar Speak...</td>\n",
       "      <td>2021-01-17 09:00</td>\n",
       "    </tr>\n",
       "    <tr>\n",
       "      <th>...</th>\n",
       "      <td>...</td>\n",
       "      <td>...</td>\n",
       "      <td>...</td>\n",
       "      <td>...</td>\n",
       "      <td>...</td>\n",
       "    </tr>\n",
       "    <tr>\n",
       "      <th>4</th>\n",
       "      <td>$775</td>\n",
       "      <td>True</td>\n",
       "      <td>(hayward / castro valley)</td>\n",
       "      <td>Fractal Axefx ultra. (Mint)</td>\n",
       "      <td>2021-01-19 18:44</td>\n",
       "    </tr>\n",
       "    <tr>\n",
       "      <th>3</th>\n",
       "      <td>$10</td>\n",
       "      <td>True</td>\n",
       "      <td>(hayward / castro valley)</td>\n",
       "      <td>Crossovers 3 way</td>\n",
       "      <td>2021-01-19 18:45</td>\n",
       "    </tr>\n",
       "    <tr>\n",
       "      <th>2</th>\n",
       "      <td>$75</td>\n",
       "      <td>True</td>\n",
       "      <td>(hayward / castro valley)</td>\n",
       "      <td>Jbl 2118h 8” woofer/midrange</td>\n",
       "      <td>2021-01-19 18:45</td>\n",
       "    </tr>\n",
       "    <tr>\n",
       "      <th>1</th>\n",
       "      <td>$700</td>\n",
       "      <td>False</td>\n",
       "      <td>(hayward / castro valley)</td>\n",
       "      <td>American standard fender precision bass wanted</td>\n",
       "      <td>2021-01-19 18:45</td>\n",
       "    </tr>\n",
       "    <tr>\n",
       "      <th>0</th>\n",
       "      <td>$65</td>\n",
       "      <td>False</td>\n",
       "      <td>(hayward / castro valley)</td>\n",
       "      <td>Amperex bugle boy mullard   5ar4 gz34</td>\n",
       "      <td>2021-01-19 18:45</td>\n",
       "    </tr>\n",
       "  </tbody>\n",
       "</table>\n",
       "<p>2880 rows × 5 columns</p>\n",
       "</div>"
      ],
      "text/plain": [
       "       price   pics                             hood  \\\n",
       "2879     $50   True                  (san jose east)   \n",
       "2878  $1,800   True                         (novato)   \n",
       "2877    $250   True         (willow glen / cambrian)   \n",
       "2876    $900   True   (oakland piedmont / montclair)   \n",
       "2875     $40   True            (marina / cow hollow)   \n",
       "...      ...    ...                              ...   \n",
       "4       $775   True        (hayward / castro valley)   \n",
       "3        $10   True        (hayward / castro valley)   \n",
       "2        $75   True        (hayward / castro valley)   \n",
       "1       $700  False        (hayward / castro valley)   \n",
       "0        $65  False        (hayward / castro valley)   \n",
       "\n",
       "                                                  title         datetimes  \n",
       "2879               Selmar Bundy flute with case vintage  2021-01-17 08:53  \n",
       "2878                   1921 Chickering Baby Grand Piano  2021-01-17 08:57  \n",
       "2877        Line 6 Pod HD500 Multi-Effects Guitar Pedal  2021-01-17 08:59  \n",
       "2876                                  King 2b+ Trombone  2021-01-17 09:00  \n",
       "2875  Vox VX12 Celestion G12P-80 16 ohm Guitar Speak...  2021-01-17 09:00  \n",
       "...                                                 ...               ...  \n",
       "4                           Fractal Axefx ultra. (Mint)  2021-01-19 18:44  \n",
       "3                                      Crossovers 3 way  2021-01-19 18:45  \n",
       "2                          Jbl 2118h 8” woofer/midrange  2021-01-19 18:45  \n",
       "1        American standard fender precision bass wanted  2021-01-19 18:45  \n",
       "0                 Amperex bugle boy mullard   5ar4 gz34  2021-01-19 18:45  \n",
       "\n",
       "[2880 rows x 5 columns]"
      ]
     },
     "execution_count": 7,
     "metadata": {},
     "output_type": "execute_result"
    }
   ],
   "source": [
    "df_base.sort_values('datetimes')"
   ]
  },
  {
   "cell_type": "markdown",
   "id": "comic-strap",
   "metadata": {
    "ExecuteTime": {
     "end_time": "2021-01-24T23:47:16.602317Z",
     "start_time": "2021-01-24T23:47:16.582851Z"
    },
    "run_control": {
     "marked": true
    }
   },
   "source": [
    "Convert to csv for import into regression notebook"
   ]
  },
  {
   "cell_type": "code",
   "execution_count": 13,
   "id": "medical-register",
   "metadata": {
    "ExecuteTime": {
     "end_time": "2021-01-20T05:17:28.419443Z",
     "start_time": "2021-01-20T05:17:28.392046Z"
    }
   },
   "outputs": [],
   "source": [
    "df_base.to_csv('/Users/johnmetzger/Desktop/Coding/Project2/base_scrape.csv', index = False)"
   ]
  }
 ],
 "metadata": {
  "kernelspec": {
   "display_name": "Python 3",
   "language": "python",
   "name": "python3"
  },
  "language_info": {
   "codemirror_mode": {
    "name": "ipython",
    "version": 3
   },
   "file_extension": ".py",
   "mimetype": "text/x-python",
   "name": "python",
   "nbconvert_exporter": "python",
   "pygments_lexer": "ipython3",
   "version": "3.8.5"
  },
  "toc": {
   "base_numbering": 1,
   "nav_menu": {},
   "number_sections": true,
   "sideBar": true,
   "skip_h1_title": false,
   "title_cell": "Table of Contents",
   "title_sidebar": "Contents",
   "toc_cell": false,
   "toc_position": {},
   "toc_section_display": true,
   "toc_window_display": false
  },
  "varInspector": {
   "cols": {
    "lenName": 16,
    "lenType": 16,
    "lenVar": 40
   },
   "kernels_config": {
    "python": {
     "delete_cmd_postfix": "",
     "delete_cmd_prefix": "del ",
     "library": "var_list.py",
     "varRefreshCmd": "print(var_dic_list())"
    },
    "r": {
     "delete_cmd_postfix": ") ",
     "delete_cmd_prefix": "rm(",
     "library": "var_list.r",
     "varRefreshCmd": "cat(var_dic_list()) "
    }
   },
   "types_to_exclude": [
    "module",
    "function",
    "builtin_function_or_method",
    "instance",
    "_Feature"
   ],
   "window_display": false
  }
 },
 "nbformat": 4,
 "nbformat_minor": 5
}
