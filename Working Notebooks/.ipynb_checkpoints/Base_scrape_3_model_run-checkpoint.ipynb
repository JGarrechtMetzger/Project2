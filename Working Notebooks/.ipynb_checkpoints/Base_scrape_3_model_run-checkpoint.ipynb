{
 "cells": [
  {
   "cell_type": "markdown",
   "id": "unique-static",
   "metadata": {},
   "source": [
    "# Imports"
   ]
  },
  {
   "cell_type": "code",
   "execution_count": 10,
   "id": "certified-clinic",
   "metadata": {
    "ExecuteTime": {
     "end_time": "2021-01-25T05:06:40.474517Z",
     "start_time": "2021-01-25T05:06:40.317481Z"
    }
   },
   "outputs": [
    {
     "name": "stdout",
     "output_type": "stream",
     "text": [
      "Populating the interactive namespace from numpy and matplotlib\n"
     ]
    }
   ],
   "source": [
    "import pandas as pd\n",
    "import numpy as np\n",
    "from sklearn.preprocessing import PolynomialFeatures\n",
    "import pandas as pd\n",
    "import seaborn as sns\n",
    "import matplotlib.pyplot as plt\n",
    "from sklearn.linear_model import LinearRegression\n",
    "from sklearn.model_selection import train_test_split\n",
    "from sklearn.metrics import mean_squared_error\n",
    "from sklearn.metrics import mean_absolute_error\n",
    "\n",
    "%pylab inline\n",
    "%config InlineBackend.figure_formats = ['retina']\n",
    "%matplotlib inline"
   ]
  },
  {
   "cell_type": "markdown",
   "id": "greater-working",
   "metadata": {},
   "source": [
    "# Load Data"
   ]
  },
  {
   "cell_type": "code",
   "execution_count": 12,
   "id": "royal-binding",
   "metadata": {
    "ExecuteTime": {
     "end_time": "2021-01-25T05:07:53.926480Z",
     "start_time": "2021-01-25T05:07:53.506593Z"
    },
    "scrolled": true
   },
   "outputs": [
    {
     "name": "stdout",
     "output_type": "stream",
     "text": [
      "<class 'pandas.core.frame.DataFrame'>\n",
      "RangeIndex: 2878 entries, 0 to 2877\n",
      "Data columns (total 5 columns):\n",
      " #   Column            Non-Null Count  Dtype\n",
      "---  ------            --------------  -----\n",
      " 0   price             2878 non-null   int64\n",
      " 1   hours             2878 non-null   int64\n",
      " 2   day               2878 non-null   int64\n",
      " 3   title_char_count  2878 non-null   int64\n",
      " 4   has_pics          2878 non-null   int64\n",
      "dtypes: int64(5)\n",
      "memory usage: 112.5 KB\n"
     ]
    }
   ],
   "source": [
    "df = pd.read_csv('/Users/johnmetzger/Desktop/Coding/Projects/Project2/df.csv')\n",
    "\n",
    "# Take a look at the datatypes\n",
    "df.info()\n"
   ]
  },
  {
   "cell_type": "markdown",
   "id": "peaceful-insurance",
   "metadata": {
    "ExecuteTime": {
     "end_time": "2021-01-25T01:43:26.480716Z",
     "start_time": "2021-01-25T01:43:26.457306Z"
    }
   },
   "source": [
    "---\n",
    "QC check on dataframe"
   ]
  },
  {
   "cell_type": "code",
   "execution_count": 13,
   "id": "weighted-binding",
   "metadata": {
    "ExecuteTime": {
     "end_time": "2021-01-25T05:07:55.952571Z",
     "start_time": "2021-01-25T05:07:55.864954Z"
    }
   },
   "outputs": [
    {
     "data": {
      "text/html": [
       "<div>\n",
       "<style scoped>\n",
       "    .dataframe tbody tr th:only-of-type {\n",
       "        vertical-align: middle;\n",
       "    }\n",
       "\n",
       "    .dataframe tbody tr th {\n",
       "        vertical-align: top;\n",
       "    }\n",
       "\n",
       "    .dataframe thead th {\n",
       "        text-align: right;\n",
       "    }\n",
       "</style>\n",
       "<table border=\"1\" class=\"dataframe\">\n",
       "  <thead>\n",
       "    <tr style=\"text-align: right;\">\n",
       "      <th></th>\n",
       "      <th>price</th>\n",
       "      <th>hours</th>\n",
       "      <th>day</th>\n",
       "      <th>title_char_count</th>\n",
       "      <th>has_pics</th>\n",
       "    </tr>\n",
       "  </thead>\n",
       "  <tbody>\n",
       "    <tr>\n",
       "      <th>0</th>\n",
       "      <td>65</td>\n",
       "      <td>18</td>\n",
       "      <td>19</td>\n",
       "      <td>37</td>\n",
       "      <td>0</td>\n",
       "    </tr>\n",
       "    <tr>\n",
       "      <th>1</th>\n",
       "      <td>700</td>\n",
       "      <td>18</td>\n",
       "      <td>19</td>\n",
       "      <td>46</td>\n",
       "      <td>0</td>\n",
       "    </tr>\n",
       "    <tr>\n",
       "      <th>2</th>\n",
       "      <td>75</td>\n",
       "      <td>18</td>\n",
       "      <td>19</td>\n",
       "      <td>28</td>\n",
       "      <td>1</td>\n",
       "    </tr>\n",
       "    <tr>\n",
       "      <th>3</th>\n",
       "      <td>10</td>\n",
       "      <td>18</td>\n",
       "      <td>19</td>\n",
       "      <td>16</td>\n",
       "      <td>1</td>\n",
       "    </tr>\n",
       "    <tr>\n",
       "      <th>4</th>\n",
       "      <td>775</td>\n",
       "      <td>18</td>\n",
       "      <td>19</td>\n",
       "      <td>27</td>\n",
       "      <td>1</td>\n",
       "    </tr>\n",
       "    <tr>\n",
       "      <th>...</th>\n",
       "      <td>...</td>\n",
       "      <td>...</td>\n",
       "      <td>...</td>\n",
       "      <td>...</td>\n",
       "      <td>...</td>\n",
       "    </tr>\n",
       "    <tr>\n",
       "      <th>2873</th>\n",
       "      <td>40</td>\n",
       "      <td>9</td>\n",
       "      <td>17</td>\n",
       "      <td>66</td>\n",
       "      <td>1</td>\n",
       "    </tr>\n",
       "    <tr>\n",
       "      <th>2874</th>\n",
       "      <td>900</td>\n",
       "      <td>9</td>\n",
       "      <td>17</td>\n",
       "      <td>17</td>\n",
       "      <td>1</td>\n",
       "    </tr>\n",
       "    <tr>\n",
       "      <th>2875</th>\n",
       "      <td>250</td>\n",
       "      <td>8</td>\n",
       "      <td>17</td>\n",
       "      <td>43</td>\n",
       "      <td>1</td>\n",
       "    </tr>\n",
       "    <tr>\n",
       "      <th>2876</th>\n",
       "      <td>1800</td>\n",
       "      <td>8</td>\n",
       "      <td>17</td>\n",
       "      <td>32</td>\n",
       "      <td>1</td>\n",
       "    </tr>\n",
       "    <tr>\n",
       "      <th>2877</th>\n",
       "      <td>50</td>\n",
       "      <td>8</td>\n",
       "      <td>17</td>\n",
       "      <td>36</td>\n",
       "      <td>1</td>\n",
       "    </tr>\n",
       "  </tbody>\n",
       "</table>\n",
       "<p>2878 rows × 5 columns</p>\n",
       "</div>"
      ],
      "text/plain": [
       "      price  hours  day  title_char_count  has_pics\n",
       "0        65     18   19                37         0\n",
       "1       700     18   19                46         0\n",
       "2        75     18   19                28         1\n",
       "3        10     18   19                16         1\n",
       "4       775     18   19                27         1\n",
       "...     ...    ...  ...               ...       ...\n",
       "2873     40      9   17                66         1\n",
       "2874    900      9   17                17         1\n",
       "2875    250      8   17                43         1\n",
       "2876   1800      8   17                32         1\n",
       "2877     50      8   17                36         1\n",
       "\n",
       "[2878 rows x 5 columns]"
      ]
     },
     "execution_count": 13,
     "metadata": {},
     "output_type": "execute_result"
    }
   ],
   "source": [
    "df"
   ]
  },
  {
   "cell_type": "markdown",
   "id": "worldwide-guinea",
   "metadata": {},
   "source": [
    "# Initial 80-20 split"
   ]
  },
  {
   "cell_type": "markdown",
   "id": "indoor-bryan",
   "metadata": {},
   "source": [
    "* This will set aside 80% of the data for training and validation in various models. \n",
    "* The other 20% of the data is set aside as 'test' data and will only be used in the final steps to test a chosen model.\n",
    "* Use 'Train' data as the input for the validation step."
   ]
  },
  {
   "cell_type": "code",
   "execution_count": 14,
   "id": "academic-parcel",
   "metadata": {
    "ExecuteTime": {
     "end_time": "2021-01-25T05:07:59.048286Z",
     "start_time": "2021-01-25T05:07:59.003449Z"
    },
    "scrolled": true
   },
   "outputs": [],
   "source": [
    "X = df[['hours','day','title_char_count','has_pics']]\n",
    "y = df['price']\n",
    "X_core, X_test, y_core, y_test =train_test_split(X, y, test_size=0.2, \n",
    "                                                 random_state=42)\n",
    "\n",
    "X_train, X_val, y_train, y_val =train_test_split(X_core, y_core, test_size=0.2, \n",
    "                                                 random_state=42)"
   ]
  },
  {
   "cell_type": "code",
   "execution_count": 15,
   "id": "appointed-traveler",
   "metadata": {
    "ExecuteTime": {
     "end_time": "2021-01-25T05:08:00.776445Z",
     "start_time": "2021-01-25T05:08:00.765295Z"
    }
   },
   "outputs": [],
   "source": [
    "def split_and_validate(X, y):\n",
    "    '''\n",
    "    For a set of features and target X, y, perform a 80/20 train/val split, \n",
    "    fit and validate a linear regression model, and report results\n",
    "    '''\n",
    "    # Train-test split makes a random subsample\n",
    "    # Then performs train-val split\n",
    "    X_train, X_val, y_train, y_val = \\\n",
    "        train_test_split(X, y, test_size=0.2, random_state=42)\n",
    "    \n",
    "    ## Random state is initializing from a random state.  This\n",
    "    ## helps make results reproducible.\n",
    "    \n",
    "    ### Test size = 0.2 means reserve 20% of data for testing\n",
    "    \n",
    "    #### DO ONE HOT ENCODING BETWEEN THIS STEP\n",
    "        # But only do it on specific columns \n",
    "    \n",
    "    # Fit linear regression to training data\n",
    "    lr_model = LinearRegression()\n",
    "    lr_model.fit(X_train, y_train)\n",
    "    \n",
    "    # Score fit model on validation data\n",
    "    val_score = lr_model.score(X_val, y_val)\n",
    "    \n",
    "    # Report results\n",
    "    print('\\nValidation R^2 score was:', val_score)\n",
    "    print('Feature coefficient results: \\n')\n",
    "    for feature, coef in zip(X.columns, lr_model.coef_):\n",
    "        print(feature, ':', f'{coef:.2f}')"
   ]
  },
  {
   "cell_type": "markdown",
   "id": "copyrighted-dragon",
   "metadata": {
    "ExecuteTime": {
     "end_time": "2021-01-25T01:51:31.541880Z",
     "start_time": "2021-01-25T01:51:31.521285Z"
    }
   },
   "source": [
    "---\n",
    "The Validation score here is the r^2 for the \"baseline feature set\" (a la 'feature_engineering' lesson)."
   ]
  },
  {
   "cell_type": "code",
   "execution_count": 16,
   "id": "forbidden-hopkins",
   "metadata": {
    "ExecuteTime": {
     "end_time": "2021-01-25T05:08:02.576035Z",
     "start_time": "2021-01-25T05:08:02.294895Z"
    },
    "scrolled": false
   },
   "outputs": [
    {
     "name": "stdout",
     "output_type": "stream",
     "text": [
      "\n",
      "Validation R^2 score was: -0.0081870876555592\n",
      "Feature coefficient results: \n",
      "\n",
      "hours : 3.54\n",
      "day : -10.48\n",
      "title_char_count : 1.33\n",
      "has_pics : 177.43\n"
     ]
    }
   ],
   "source": [
    "split_and_validate(X_train, y_train)"
   ]
  },
  {
   "cell_type": "markdown",
   "id": "monetary-effectiveness",
   "metadata": {},
   "source": [
    "# Polynomial Model\n",
    "**NOTE**\n",
    "* Make sure to train on same training set the linear model used"
   ]
  },
  {
   "cell_type": "markdown",
   "id": "wicked-pizza",
   "metadata": {
    "ExecuteTime": {
     "end_time": "2021-01-25T01:53:09.728583Z",
     "start_time": "2021-01-25T01:53:09.724091Z"
    }
   },
   "source": [
    "## Training score"
   ]
  },
  {
   "cell_type": "markdown",
   "id": "noble-representative",
   "metadata": {},
   "source": [
    "* In general, don't mess with the 'degree' much.  2 is best for now."
   ]
  },
  {
   "cell_type": "code",
   "execution_count": 17,
   "id": "demonstrated-excellence",
   "metadata": {
    "ExecuteTime": {
     "end_time": "2021-01-25T05:08:07.437707Z",
     "start_time": "2021-01-25T05:08:07.393678Z"
    },
    "run_control": {
     "marked": false
    }
   },
   "outputs": [
    {
     "name": "stdout",
     "output_type": "stream",
     "text": [
      "Training R^2 score:  0.0030017034863207837\n",
      "Training coef:  [  0.         209.93179737 127.54224666 -20.09956244 506.30265369\n",
      " -12.66433904   0.59616572   2.27264402   0.6166668  -30.71195179\n",
      "   2.97589299]\n"
     ]
    }
   ],
   "source": [
    "m = LinearRegression()\n",
    "p = PolynomialFeatures(degree=2,interaction_only=True)\n",
    "p.fit(X_train)\n",
    "x_train_poly = p.transform(X_train)\n",
    "\n",
    "m.fit(x_train_poly,y_train)\n",
    "m.score(x_train_poly,y_train)\n",
    "print('Training R^2 score: ', m.score(x_train_poly,y_train))\n",
    "print('Training coef: ', m.coef_)"
   ]
  },
  {
   "cell_type": "markdown",
   "id": "vocational-tiger",
   "metadata": {},
   "source": [
    "## Validation score"
   ]
  },
  {
   "cell_type": "markdown",
   "id": "answering-capital",
   "metadata": {},
   "source": [
    "**NOTE:** Do not re-fit poly"
   ]
  },
  {
   "cell_type": "code",
   "execution_count": 18,
   "id": "composed-webster",
   "metadata": {
    "ExecuteTime": {
     "end_time": "2021-01-25T05:08:09.345913Z",
     "start_time": "2021-01-25T05:08:09.302346Z"
    },
    "run_control": {
     "marked": false
    }
   },
   "outputs": [
    {
     "data": {
      "text/plain": [
       "0.002672751067739232"
      ]
     },
     "execution_count": 18,
     "metadata": {},
     "output_type": "execute_result"
    }
   ],
   "source": [
    "x_val_poly = p.transform(X_val)\n",
    "m.score(x_val_poly,y_val)"
   ]
  },
  {
   "cell_type": "markdown",
   "id": "referenced-translation",
   "metadata": {},
   "source": [
    "# Validation comparison \n",
    "- compare validation scores (t^2) \n",
    "- choose the best value\n",
    "- take the 'X_test' data and make sure you do any transformations needed to match the chosen model features (e.g., polynomial transformation)\n",
    "    - then you can score it with the linear regression to get an R^2."
   ]
  },
  {
   "cell_type": "markdown",
   "id": "south-correction",
   "metadata": {},
   "source": [
    "---\n",
    "For this study, the polynomial model is a better fit so I need to transform the X_test\n",
    "and then score it."
   ]
  },
  {
   "cell_type": "markdown",
   "id": "logical-marketing",
   "metadata": {},
   "source": [
    "## Polynomial is a better fit so I need to transform the X_test"
   ]
  },
  {
   "cell_type": "code",
   "execution_count": 19,
   "id": "above-lucas",
   "metadata": {
    "ExecuteTime": {
     "end_time": "2021-01-25T05:08:11.731475Z",
     "start_time": "2021-01-25T05:08:11.721528Z"
    }
   },
   "outputs": [
    {
     "data": {
      "text/plain": [
       "0.004119661954509524"
      ]
     },
     "execution_count": 19,
     "metadata": {},
     "output_type": "execute_result"
    }
   ],
   "source": [
    "x_val_poly_test = p.transform(X_test)\n",
    "m.score(x_val_poly_test, y_test)"
   ]
  },
  {
   "cell_type": "markdown",
   "id": "modified-words",
   "metadata": {},
   "source": [
    "Check feature names to see what operations are being done."
   ]
  },
  {
   "cell_type": "code",
   "execution_count": 20,
   "id": "processed-tackle",
   "metadata": {
    "ExecuteTime": {
     "end_time": "2021-01-25T05:08:13.429003Z",
     "start_time": "2021-01-25T05:08:13.413251Z"
    }
   },
   "outputs": [
    {
     "data": {
      "text/plain": [
       "['1',\n",
       " 'x0',\n",
       " 'x1',\n",
       " 'x2',\n",
       " 'x3',\n",
       " 'x0 x1',\n",
       " 'x0 x2',\n",
       " 'x0 x3',\n",
       " 'x1 x2',\n",
       " 'x1 x3',\n",
       " 'x2 x3']"
      ]
     },
     "execution_count": 20,
     "metadata": {},
     "output_type": "execute_result"
    }
   ],
   "source": [
    "p.get_feature_names()"
   ]
  },
  {
   "cell_type": "markdown",
   "id": "corrected-worcester",
   "metadata": {
    "ExecuteTime": {
     "end_time": "2021-01-25T02:02:43.025436Z",
     "start_time": "2021-01-25T02:02:43.008239Z"
    }
   },
   "source": [
    "# Check to see if polynomial model gives a reasonable (root mean squared error) RMSE and mean absolute error (MAE)\n",
    "\n",
    "You need to make prediction data first"
   ]
  },
  {
   "cell_type": "code",
   "execution_count": 21,
   "id": "premium-register",
   "metadata": {
    "ExecuteTime": {
     "end_time": "2021-01-25T05:08:15.029767Z",
     "start_time": "2021-01-25T05:08:14.963784Z"
    },
    "run_control": {
     "marked": false
    },
    "scrolled": true
   },
   "outputs": [
    {
     "data": {
      "text/plain": [
       "array([ 600.33772628,  561.48262471,  872.71044794,  162.30299401,\n",
       "         54.97363867,  695.42456456,  857.06571441, 1083.25985663,\n",
       "        946.31490046,  567.53697778,  507.88859358,  703.38633658,\n",
       "        592.50019257,  747.72783033,  595.92128248,  635.76109851,\n",
       "        596.92162194,  567.73579192,  585.72159561,  765.64547463,\n",
       "        866.68943826,  689.51168943,  683.5988143 ,  615.86794849,\n",
       "        671.85799768,  641.84004432,  586.00644733,  705.78705969,\n",
       "        482.18341605,  755.9019156 ,  747.56365247,  983.83465776,\n",
       "       1078.1844475 ,  612.95552897, 1055.71744783,  712.02462624,\n",
       "       1411.56047724,  565.24651078, 1305.16354835, 1414.41618479,\n",
       "        691.72589266,  680.57448248,  585.22550284, 1129.55294739,\n",
       "        749.89354027, 1069.71146379, 1013.27224462,  585.69451068,\n",
       "        804.25338302,  742.72756562, 1003.78851553,  790.20376619,\n",
       "        666.732511  ,  788.00184116, 1095.58021687,  744.86256502,\n",
       "        637.47274089,  938.56632474,  618.16427704,  771.61764142,\n",
       "        619.79587826,  968.35736143,  895.48904174,  611.24428864,\n",
       "        678.66551578,  572.05993123, 1045.08216664,  830.3794201 ,\n",
       "        624.43935227,  499.56520463,  693.98852195,  581.20730361,\n",
       "        599.08529712, 1065.18088547,  677.75873944,  585.66742574,\n",
       "       1017.19159846,  731.60038197,  605.11508618,  591.12070692,\n",
       "        438.15570195,  760.00047994,  628.4717947 ,  646.42282308,\n",
       "        473.80859278,  935.14526512,  579.17455419,  684.79471825,\n",
       "       1163.30097651,  585.6403408 ,  635.76109851,  821.99606357,\n",
       "        785.4420245 ,  571.21876879, 1246.25048885,  645.96955378,\n",
       "        635.27750331,  675.8419066 ,  668.78513235,  525.20741893,\n",
       "        690.62602934,  871.01630839,  618.49450899,  197.1524754 ,\n",
       "        744.28919822,  825.50781746,  811.48819313,   60.01360359,\n",
       "        598.15409654,  536.24307344,  888.39430052,  656.66197147,\n",
       "        150.19370606,  740.57398906,  826.87670716,  668.72446546,\n",
       "       1190.99735845,  774.92994427,  729.02138265,  354.17915899,\n",
       "        664.78759975,  575.10905535,  624.86283285,  548.24371966,\n",
       "        473.80859278,  871.01630839,  745.71736442,  762.45013469,\n",
       "        839.28366703,  643.35827693,  891.39771381,  586.00644733,\n",
       "        595.92128248,  592.49688144, 1170.35106408,  952.93881569,\n",
       "        554.35985294,  626.23126881,  585.75254983,  895.48904174,\n",
       "        751.36736196,  713.53183401, 1079.90206135,  498.44020898,\n",
       "        633.88668122,  602.38595281,  610.02659191,  769.8933758 ,\n",
       "        632.89070399,  956.36987013,  665.5532243 ,  711.71512703,\n",
       "        586.00644733,  530.13708664,  377.32382407,  793.10087625,\n",
       "        566.77300748, 1424.15208999,  607.48811533, 1433.92438545,\n",
       "        564.54294642,  305.15615999,  576.32772727,  610.5788589 ,\n",
       "        573.81082451,  572.87899429,  658.40377784,  702.07240644,\n",
       "        765.06942233,  823.59766299,  585.84541247,  597.126114  ,\n",
       "        602.78001796,  166.53696756,  872.2686608 ,  586.18197515,\n",
       "        587.36027988,  613.68237951,  948.53116245,  717.40422117,\n",
       "        784.11769154,  804.60206795,  681.57045971,  814.21390019,\n",
       "        782.81557313,  587.36027988,  664.78759975,  823.47552178,\n",
       "        904.74593372,  542.14014077,  814.55282246,  590.48403654,\n",
       "        597.03267577,  675.8419066 , 1154.15368901,  888.98523356,\n",
       "        718.50533182,  594.55615765,  602.71866768,  585.80285042,\n",
       "        533.19008004,  585.69451068,  549.69968763,  502.49691817,\n",
       "        654.82905462,  551.07842834,  665.68800026,  747.72783033,\n",
       "        615.95160042,  713.53183401,  703.38633658, 1139.65721454,\n",
       "        588.90225369,  585.65581791,  588.02266855,  696.75910108,\n",
       "        816.31348822,  700.18785115,  606.80738217,  683.5988143 ,\n",
       "        993.19060911, 1398.73654739,  578.08304798,  862.46145698,\n",
       "        852.48071693,  855.69424482,  633.38071526, 1337.82806914,\n",
       "        578.80250571,  722.1610638 ,  776.17901758,  926.28594337,\n",
       "        840.48875775, 1348.24504955,  709.79291401,  777.04721708,\n",
       "        694.15101011,  590.78468092,  554.56103387,  611.23115792,\n",
       "        765.09624484,  581.57926939, 1064.98399944,  521.77395383,\n",
       "        612.64431272,  692.12296629,  647.55138535,  754.55331588,\n",
       "       1060.69089002,  596.24127323,  553.03453716,  744.01294268,\n",
       "        712.40651222,  590.45252419,  610.72973923,  719.07606509,\n",
       "       1015.74204353,  598.69883026,  897.40076305,  885.82889594,\n",
       "        407.96116056,  422.85977616,   41.54977032,  598.69883026,\n",
       "        597.2653865 ,  596.99627564,  617.19939512,  594.55615765,\n",
       "        618.0406219 ,  649.80554081,  730.86541522, 1090.71940993,\n",
       "        678.68034957, 1003.57249218,  967.31130664,  749.89354027,\n",
       "        873.98627465,  572.79831908,  884.63656878,  644.10488494,\n",
       "        765.89576667,  719.07606509,  786.10419098,  836.0456349 ,\n",
       "        933.64468023,  927.91868288,  710.28678003, 1206.60569723,\n",
       "        289.21581454,  619.08182235,  650.83791817,  614.30888988,\n",
       "        674.80796241,  876.37544755, 1386.39544685,  565.52075657,\n",
       "        963.41764467,  671.30346477,  852.04885023,  713.91165056,\n",
       "        525.84719122, 1003.38446028,  937.40241196, 1160.31006129,\n",
       "        647.71941722,  158.65907753, 1020.28518585,  565.96168297,\n",
       "        532.42131758,  805.50798194,  560.46970903,  520.97810643,\n",
       "        676.18396254,  626.56729481,  587.98590057,  617.34048846,\n",
       "        683.65948119,  769.56502007,  565.95651146, 1004.86398868,\n",
       "       1039.1737614 , 1039.65807259,  531.40494287,  996.7278476 ,\n",
       "        632.2090328 ,  510.75593707,  777.52307828,  523.5048643 ,\n",
       "        680.89669313,  522.50460313,  833.08139207,  655.51658373,\n",
       "        517.50854953,  888.84307679,  727.71040641,  803.38923868,\n",
       "        673.62922998,  496.06178766,  694.42858733,  756.88320369,\n",
       "        573.3045718 ,  940.52224398,  642.20868838,  962.32899973,\n",
       "        580.1909289 ,  212.46366559,  954.13647144,  729.86943799,\n",
       "       1032.23970278, 1193.49380163, 1041.72343186,  689.91920366,\n",
       "        585.64807936,  557.8306853 ,  640.18970829,  574.31707723,\n",
       "        562.67326476,  620.81999153,  751.95371429,  812.29161233,\n",
       "        602.07322881,  893.12530956,  821.68660592,  627.98878436,\n",
       "        686.73234652, 1096.6637252 ,  559.63574846,  823.59766299,\n",
       "        583.24005303,  621.84410479, 1056.90404763,  626.07397697,\n",
       "        722.97896048,  578.87335168,  646.0171501 ,  997.77390239,\n",
       "        739.37743383,  574.09268065,  307.72739074,  486.06793659,\n",
       "        608.17968741,  585.63260225, 1254.76112566,  610.72973923,\n",
       "        737.23253841,  863.42357856,  530.13708664,  873.32489345,\n",
       "        607.22527404,  668.72446546,  596.09813146,  507.39159621,\n",
       "        455.35512588,  748.38331846,  896.46231905,  307.54659844,\n",
       "        802.20514769,  725.97690667,  677.68593917,  736.76615698,\n",
       "        700.18785115,  795.87731989,  558.0532487 ,  561.89618414,\n",
       "        606.73143759,  534.00883737,  567.53697778,  611.51786954,\n",
       "        671.85799768,  624.86283285,  589.0724804 ,  486.06793659,\n",
       "        680.89669313, 1368.47029707,  712.37612935,  590.44422749,\n",
       "        565.24651078,  697.05312318,  955.59107036,  602.38595281,\n",
       "        266.74616017,  585.65581791,  756.12809278,  615.332445  ,\n",
       "          5.27524922,  603.29400923,  594.71914781, 1386.39544685,\n",
       "          4.68387643,  151.37124457,  449.53982285,  742.96042116,\n",
       "        566.97805768, 1022.7559737 ,  665.7345007 ,  585.65968719,\n",
       "        564.69827562, 1082.29123425,  872.29970759, 1078.85600656,\n",
       "        639.04856804,  704.6795607 ,  587.71621041,  589.79208001,\n",
       "        543.87555695,  778.20481641,  973.56452916,  772.79492109,\n",
       "       1135.35153718,  789.95448131,  576.32772727,  943.71916628,\n",
       "        866.70386999,  730.90181535,  923.38664848,  499.6071526 ,\n",
       "        670.56048724,  601.20820622,  601.36183954,  187.52568966,\n",
       "        958.36290975,  587.71621041, 1198.70335512,  307.40192762,\n",
       "        520.16135927,  643.14167736,  579.88585711,  572.79831908,\n",
       "        648.12156351,  579.88585711,  572.87899429,  574.72603989,\n",
       "        717.51342157,  651.78324163,  732.58010323,  247.63872273,\n",
       "        731.60038197, 1105.88337462,  598.69883026,  551.07842834,\n",
       "       1017.6209094 ,  610.91749134,  203.90001633, 1014.51675545,\n",
       "        586.00014061,  686.42512389,  732.50581422,  615.95160042,\n",
       "        630.67479755,  902.42216086,  240.88597594,  593.16893345,\n",
       "        613.58531248,  715.22794469,  655.87847121,  588.49215328,\n",
       "        765.09624484,  658.34326171,  597.36491969,  638.22991699,\n",
       "        638.82569975,  585.67516429,  571.21876879,  774.73201841,\n",
       "        761.62022135,  620.43809234,  628.54459497,  201.02509792,\n",
       "        744.01294268,  575.83583538,  690.82545584, 1210.58850046,\n",
       "        583.81234804,  661.35950265,  698.21215266,  653.82759887,\n",
       "        832.69623109,  289.01324919,  840.6741219 ,  472.69968697,\n",
       "       1126.46385946,  271.2820081 ,  654.14870591,  608.17968741,\n",
       "        619.08182235,  804.60206795,  159.19762327,  688.01772359,\n",
       "        575.32958266,  705.78705969, 1364.27295329, 1217.29900066,\n",
       "        595.92128248,  955.53597676,  626.56729481,  572.37950859,\n",
       "        825.23164907, 1143.28878766,  516.37941237,  591.12070692,\n",
       "        604.43417933,  422.85977616,  621.02855359,  594.04216638,\n",
       "       1031.96878915,  739.63043353,  665.7345007 ,  663.18002146,\n",
       "        937.85244497,  731.44707324,  647.69452713,  855.07219312,\n",
       "        808.36016976, 1275.55975953,  382.51572781,  666.69611086,\n",
       "        610.72973923,  692.05016602,  683.65948119,  598.62995318,\n",
       "       1029.52799464,  538.98022434,  140.52189745,  279.26380664,\n",
       "        772.79492109,  566.01874518,  481.48897203,  774.92994427,\n",
       "        597.2653865 ,  498.44020898,  576.34208809,  595.92128248,\n",
       "        568.29950418, 1181.41231086,  564.94530826,  625.98185163])"
      ]
     },
     "execution_count": 21,
     "metadata": {},
     "output_type": "execute_result"
    }
   ],
   "source": [
    "lr = LinearRegression()\n",
    "lr.fit(x_val_poly_test, y_test)\n",
    "y_pred = lr.predict(x_val_poly_test)\n",
    "y_pred"
   ]
  },
  {
   "cell_type": "markdown",
   "id": "second-thing",
   "metadata": {
    "ExecuteTime": {
     "end_time": "2021-01-25T05:08:34.233592Z",
     "start_time": "2021-01-25T05:08:34.226371Z"
    }
   },
   "source": [
    "Check predicted and test sizes using len().  They should match."
   ]
  },
  {
   "cell_type": "code",
   "execution_count": 22,
   "id": "hired-ratio",
   "metadata": {
    "ExecuteTime": {
     "end_time": "2021-01-25T05:08:16.989484Z",
     "start_time": "2021-01-25T05:08:16.951143Z"
    }
   },
   "outputs": [
    {
     "data": {
      "text/plain": [
       "576"
      ]
     },
     "execution_count": 22,
     "metadata": {},
     "output_type": "execute_result"
    }
   ],
   "source": [
    "len(y_pred)"
   ]
  },
  {
   "cell_type": "code",
   "execution_count": 23,
   "id": "rising-hopkins",
   "metadata": {
    "ExecuteTime": {
     "end_time": "2021-01-25T05:08:17.753903Z",
     "start_time": "2021-01-25T05:08:17.746880Z"
    }
   },
   "outputs": [
    {
     "data": {
      "text/plain": [
       "576"
      ]
     },
     "execution_count": 23,
     "metadata": {},
     "output_type": "execute_result"
    }
   ],
   "source": [
    "len(y_test)"
   ]
  },
  {
   "cell_type": "markdown",
   "id": "compatible-trade",
   "metadata": {
    "ExecuteTime": {
     "end_time": "2021-01-22T04:27:30.121770Z",
     "start_time": "2021-01-22T04:27:30.117840Z"
    },
    "run_control": {
     "marked": true
    }
   },
   "source": [
    "# Mean Absolute Error"
   ]
  },
  {
   "cell_type": "markdown",
   "id": "english-seven",
   "metadata": {
    "ExecuteTime": {
     "end_time": "2021-01-25T05:09:42.774499Z",
     "start_time": "2021-01-25T05:09:42.755925Z"
    }
   },
   "source": [
    "This gives you the error in units of your test variable, which is useful for explaining how useful your model is for an intended purpose."
   ]
  },
  {
   "cell_type": "code",
   "execution_count": 25,
   "id": "found-muscle",
   "metadata": {
    "ExecuteTime": {
     "end_time": "2021-01-25T05:08:57.990226Z",
     "start_time": "2021-01-25T05:08:57.983910Z"
    }
   },
   "outputs": [
    {
     "data": {
      "text/plain": [
       "781.7045453489694"
      ]
     },
     "execution_count": 25,
     "metadata": {},
     "output_type": "execute_result"
    }
   ],
   "source": [
    "mean_absolute_error(y_test,y_pred)"
   ]
  },
  {
   "cell_type": "markdown",
   "id": "immediate-income",
   "metadata": {},
   "source": [
    "# ROOT MEAN SQUARED ERROR"
   ]
  },
  {
   "cell_type": "code",
   "execution_count": null,
   "id": "composite-expression",
   "metadata": {},
   "outputs": [],
   "source": [
    "Similar to MAE, this can be used to understand the usefulness of a model for a given task by using the same units at the target variable. "
   ]
  },
  {
   "cell_type": "code",
   "execution_count": 27,
   "id": "composite-crisis",
   "metadata": {
    "ExecuteTime": {
     "end_time": "2021-01-25T05:09:53.646669Z",
     "start_time": "2021-01-25T05:09:53.630284Z"
    }
   },
   "outputs": [
    {
     "data": {
      "text/plain": [
       "2039.105334233029"
      ]
     },
     "execution_count": 27,
     "metadata": {},
     "output_type": "execute_result"
    }
   ],
   "source": [
    "rmse = np.sqrt(mean_squared_error(y_test, y_pred))\n",
    "rmse             "
   ]
  },
  {
   "cell_type": "code",
   "execution_count": 11,
   "id": "yellow-armstrong",
   "metadata": {
    "ExecuteTime": {
     "end_time": "2021-01-22T02:12:16.121706Z",
     "start_time": "2021-01-22T02:12:16.111600Z"
    },
    "scrolled": false
   },
   "outputs": [
    {
     "data": {
      "text/plain": [
       "['1',\n",
       " 'x0',\n",
       " 'x1',\n",
       " 'x2',\n",
       " 'x3',\n",
       " 'x0 x1',\n",
       " 'x0 x2',\n",
       " 'x0 x3',\n",
       " 'x1 x2',\n",
       " 'x1 x3',\n",
       " 'x2 x3']"
      ]
     },
     "execution_count": 11,
     "metadata": {},
     "output_type": "execute_result"
    }
   ],
   "source": [
    "p.get_feature_names()"
   ]
  },
  {
   "cell_type": "markdown",
   "id": "competitive-unemployment",
   "metadata": {},
   "source": [
    "# Mean and Median Prices"
   ]
  },
  {
   "cell_type": "code",
   "execution_count": 46,
   "id": "wireless-attachment",
   "metadata": {
    "ExecuteTime": {
     "end_time": "2021-01-22T04:29:18.997304Z",
     "start_time": "2021-01-22T04:29:18.968411Z"
    }
   },
   "outputs": [
    {
     "data": {
      "text/plain": [
       "685.1567060458652"
      ]
     },
     "execution_count": 46,
     "metadata": {},
     "output_type": "execute_result"
    }
   ],
   "source": [
    "mean(df['price'])"
   ]
  },
  {
   "cell_type": "code",
   "execution_count": 47,
   "id": "amber-brisbane",
   "metadata": {
    "ExecuteTime": {
     "end_time": "2021-01-22T04:29:27.428048Z",
     "start_time": "2021-01-22T04:29:27.415151Z"
    }
   },
   "outputs": [
    {
     "data": {
      "text/plain": [
       "200.0"
      ]
     },
     "execution_count": 47,
     "metadata": {},
     "output_type": "execute_result"
    }
   ],
   "source": [
    "median(df['price'])"
   ]
  }
 ],
 "metadata": {
  "kernelspec": {
   "display_name": "Python 3",
   "language": "python",
   "name": "python3"
  },
  "language_info": {
   "codemirror_mode": {
    "name": "ipython",
    "version": 3
   },
   "file_extension": ".py",
   "mimetype": "text/x-python",
   "name": "python",
   "nbconvert_exporter": "python",
   "pygments_lexer": "ipython3",
   "version": "3.8.5"
  },
  "toc": {
   "base_numbering": 1,
   "nav_menu": {},
   "number_sections": true,
   "sideBar": true,
   "skip_h1_title": false,
   "title_cell": "Table of Contents",
   "title_sidebar": "Contents",
   "toc_cell": false,
   "toc_position": {},
   "toc_section_display": true,
   "toc_window_display": false
  }
 },
 "nbformat": 4,
 "nbformat_minor": 5
}
